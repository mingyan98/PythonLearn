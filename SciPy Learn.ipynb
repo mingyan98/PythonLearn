{
 "cells": [
  {
   "cell_type": "markdown",
   "id": "e7bb98d6",
   "metadata": {},
   "source": [
    "### Constants\n",
    "Physical and mathematical constants"
   ]
  },
  {
   "cell_type": "code",
   "execution_count": 3,
   "id": "72ca3ef7",
   "metadata": {},
   "outputs": [
    {
     "name": "stdout",
     "output_type": "stream",
     "text": [
      "3.141592653589793\n",
      "299792458.0\n"
     ]
    }
   ],
   "source": [
    "from scipy import constants\n",
    "\n",
    "print(constants.pi)\n",
    "print(constants.c)"
   ]
  }
 ],
 "metadata": {
  "kernelspec": {
   "display_name": "Python 3 (ipykernel)",
   "language": "python",
   "name": "python3"
  },
  "language_info": {
   "codemirror_mode": {
    "name": "ipython",
    "version": 3
   },
   "file_extension": ".py",
   "mimetype": "text/x-python",
   "name": "python",
   "nbconvert_exporter": "python",
   "pygments_lexer": "ipython3",
   "version": "3.9.12"
  }
 },
 "nbformat": 4,
 "nbformat_minor": 5
}
