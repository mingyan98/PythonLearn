{
 "cells": [
  {
   "cell_type": "code",
   "execution_count": 2,
   "id": "4bd36287",
   "metadata": {},
   "outputs": [],
   "source": [
    "import numpy as np"
   ]
  },
  {
   "cell_type": "markdown",
   "id": "14213f59",
   "metadata": {},
   "source": [
    "### Creating Arrays"
   ]
  },
  {
   "cell_type": "code",
   "execution_count": 10,
   "id": "70a5f1b6",
   "metadata": {},
   "outputs": [
    {
     "name": "stdout",
     "output_type": "stream",
     "text": [
      "1\n",
      "dimension: 0\n",
      "[1 2 3 4 5]\n",
      "dimension: 1\n",
      "[[1 2 3]\n",
      " [4 5 6]]\n",
      "dimension: 2\n"
     ]
    }
   ],
   "source": [
    "arr0 = np.array(1)\n",
    "print(arr0)\n",
    "print(\"dimension:\", arr0.ndim)\n",
    "\n",
    "arr1 = np.array([1, 2, 3, 4, 5])\n",
    "print(arr1)\n",
    "print(\"dimension:\", arr1.ndim)\n",
    "\n",
    "arr2 = np.array([[1,2,3], [4,5,6]])\n",
    "print(arr2)\n",
    "print(\"dimension:\", arr2.ndim)"
   ]
  },
  {
   "cell_type": "markdown",
   "id": "411a6f4e",
   "metadata": {},
   "source": [
    "### Array indexing"
   ]
  },
  {
   "cell_type": "code",
   "execution_count": 5,
   "id": "e09ab23f",
   "metadata": {},
   "outputs": [
    {
     "name": "stdout",
     "output_type": "stream",
     "text": [
      "6\n"
     ]
    }
   ],
   "source": [
    "arr = np.array([1, 2, 3, 4])\n",
    "print(arr[1] + arr[3])"
   ]
  },
  {
   "cell_type": "code",
   "execution_count": 7,
   "id": "49656923",
   "metadata": {},
   "outputs": [
    {
     "name": "stdout",
     "output_type": "stream",
     "text": [
      "[[ 1  2  3  4  5]\n",
      " [ 6  7  8  9 10]]\n",
      "2nd element on the first row is:  2\n"
     ]
    }
   ],
   "source": [
    "arr = np.array([[1, 2, 3, 4, 5], [6, 7, 8, 9, 10]])\n",
    "print(arr)\n",
    "print('2nd element on the first row is: ',arr[0,1])"
   ]
  },
  {
   "cell_type": "code",
   "execution_count": 12,
   "id": "71850f4c",
   "metadata": {},
   "outputs": [
    {
     "name": "stdout",
     "output_type": "stream",
     "text": [
      "[[[ 1  2  3]\n",
      "  [ 4  5  6]]\n",
      "\n",
      " [[ 7  8  9]\n",
      "  [10 11 12]]]\n",
      "9\n"
     ]
    }
   ],
   "source": [
    "arr = np.array([[[1, 2, 3], [4, 5, 6]], [[7, 8, 9], [10, 11, 12]]])\n",
    "print(arr)\n",
    "print(arr[1,0,2])"
   ]
  },
  {
   "cell_type": "markdown",
   "id": "bc2c87d8",
   "metadata": {},
   "source": [
    "### Array Copy vs View"
   ]
  },
  {
   "cell_type": "code",
   "execution_count": 15,
   "id": "81707d41",
   "metadata": {},
   "outputs": [
    {
     "name": "stdout",
     "output_type": "stream",
     "text": [
      "[10  2  3  4  5]\n",
      "[1 2 3 4 5]\n",
      "None\n",
      "[10  2  3  4  5]\n",
      "[10  2  3  4  5]\n",
      "[10  2  3  4  5]\n"
     ]
    }
   ],
   "source": [
    "# copy is a copy, will not affect the orignal array \n",
    "# view is a view of the original array, will affect the orignal array\n",
    "\n",
    "arr = np.array([1, 2, 3, 4, 5])\n",
    "x = arr.copy()\n",
    "arr[0] = 10\n",
    "\n",
    "print(arr)\n",
    "print(x)\n",
    "print(x.base) # copy return none\n",
    "\n",
    "y = arr.view()\n",
    "print(arr)\n",
    "print(y)\n",
    "print(y.base) # view returns the original array"
   ]
  }
 ],
 "metadata": {
  "kernelspec": {
   "display_name": "Python 3 (ipykernel)",
   "language": "python",
   "name": "python3"
  },
  "language_info": {
   "codemirror_mode": {
    "name": "ipython",
    "version": 3
   },
   "file_extension": ".py",
   "mimetype": "text/x-python",
   "name": "python",
   "nbconvert_exporter": "python",
   "pygments_lexer": "ipython3",
   "version": "3.9.12"
  }
 },
 "nbformat": 4,
 "nbformat_minor": 5
}
